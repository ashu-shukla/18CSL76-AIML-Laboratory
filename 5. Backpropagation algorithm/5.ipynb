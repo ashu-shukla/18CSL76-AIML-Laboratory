{
 "cells": [
  {
   "cell_type": "code",
   "execution_count": 1,
   "metadata": {},
   "outputs": [],
   "source": [
    "import numpy as np"
   ]
  },
  {
   "cell_type": "code",
   "execution_count": 2,
   "metadata": {},
   "outputs": [],
   "source": [
    "# Create numpy array\n",
    "X = np.array(([2, 9], [1, 5], [3, 6]), dtype=float)\n",
    "y = np.array(([92], [86], [89]), dtype=float)\n",
    "\n",
    "# Normalize by dividing the max element in array and for y divide by 100.\n",
    "X = X / np.amax(X, axis=0)\n",
    "y = y / 100"
   ]
  },
  {
   "cell_type": "markdown",
   "metadata": {},
   "source": [
    "Sigmoid:<br>\n",
    "$$S(x) = \\frac{1}{1+e^{-x}}$$"
   ]
  },
  {
   "cell_type": "code",
   "execution_count": 3,
   "metadata": {},
   "outputs": [],
   "source": [
    "def sigmoid(x):\n",
    "    return 1 / (1 + np.exp(-x))"
   ]
  },
  {
   "cell_type": "markdown",
   "metadata": {},
   "source": [
    "Derivative Of Sigmoid:\n",
    "$$\\frac{d\\sigma(x)}{dx}=\\sigma(x).(1-\\sigma(x))$$"
   ]
  },
  {
   "cell_type": "code",
   "execution_count": 4,
   "metadata": {},
   "outputs": [],
   "source": [
    "def derivatives_sigmoid(x):\n",
    "    return x * (1 - x)"
   ]
  },
  {
   "cell_type": "code",
   "execution_count": 5,
   "metadata": {},
   "outputs": [],
   "source": [
    "# Variable Init\n",
    "epoch = 7000\n",
    "learning_rate = 0.1\n",
    "inputlayer_neurons = 2\n",
    "hiddenlayer_neurons = 3\n",
    "output_neurons = 1"
   ]
  },
  {
   "cell_type": "code",
   "execution_count": 6,
   "metadata": {},
   "outputs": [],
   "source": [
    "# np.random.uniform(size=(m,n))\n",
    "# Creates a matrix with random numbers between 0-1, mxn matrix\n",
    "\n",
    "# Creating weights and bias vals for hidden and output layer\n",
    "wei_hdn = np.random.uniform(size=(inputlayer_neurons, hiddenlayer_neurons))\n",
    "bias_hdn = np.random.uniform(size=(1, hiddenlayer_neurons))\n",
    "wei_out = np.random.uniform(size=(hiddenlayer_neurons, output_neurons))\n",
    "bias_out = np.random.uniform(size=(1, output_neurons))"
   ]
  },
  {
   "cell_type": "code",
   "execution_count": 7,
   "metadata": {},
   "outputs": [],
   "source": [
    "for i in range(epoch):\n",
    "    # Hidden Layer\n",
    "    hdn_lyr_inp = np.dot(X, wei_hdn) + bias_hdn\n",
    "    hdn_lyr_act = sigmoid(hdn_lyr_inp)\n",
    "\n",
    "    # Output Layer\n",
    "    out_lyr_inp = np.dot(hdn_lyr_act, wei_out) + + bias_out\n",
    "    output = sigmoid(out_lyr_inp)\n",
    "\n",
    "    EO = y - output\n",
    "    outgrad = derivatives_sigmoid(output)\n",
    "    d_output = EO * outgrad\n",
    "\n",
    "    EH = d_output.dot(wei_out.T)\n",
    "    hiddengrad = derivatives_sigmoid(hdn_lyr_act)\n",
    "    d_hiddenlayer = EH * hiddengrad\n",
    "\n",
    "    wei_out += hdn_lyr_act.T.dot(d_output) * learning_rate\n",
    "    wei_hdn += X.T.dot(d_hiddenlayer) * learning_rate"
   ]
  },
  {
   "cell_type": "code",
   "execution_count": 8,
   "metadata": {},
   "outputs": [
    {
     "name": "stdout",
     "output_type": "stream",
     "text": [
      "Input: \n",
      " [[0.66666667 1.        ]\n",
      " [0.33333333 0.55555556]\n",
      " [1.         0.66666667]]\n",
      "Actual Output: \n",
      " [[0.92]\n",
      " [0.86]\n",
      " [0.89]]\n",
      "Predicted Output: \n",
      " [[0.89449631]\n",
      " [0.88209303]\n",
      " [0.89334023]]\n"
     ]
    }
   ],
   "source": [
    "print(\"Input: \\n\",X)\n",
    "print(\"Actual Output: \\n\", y)\n",
    "print(\"Predicted Output: \\n\", output)"
   ]
  }
 ],
 "metadata": {
  "interpreter": {
   "hash": "eb99a90af92f394532010be48aea9277450333d8ba9e464bb588dfed192879e3"
  },
  "kernelspec": {
   "display_name": "Python 3.8.12 ('exams')",
   "language": "python",
   "name": "python3"
  },
  "language_info": {
   "codemirror_mode": {
    "name": "ipython",
    "version": 3
   },
   "file_extension": ".py",
   "mimetype": "text/x-python",
   "name": "python",
   "nbconvert_exporter": "python",
   "pygments_lexer": "ipython3",
   "version": "3.8.12"
  },
  "orig_nbformat": 4
 },
 "nbformat": 4,
 "nbformat_minor": 2
}

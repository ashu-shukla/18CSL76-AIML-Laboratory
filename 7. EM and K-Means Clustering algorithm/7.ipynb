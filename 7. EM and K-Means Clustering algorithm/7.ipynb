{
 "cells": [
  {
   "cell_type": "code",
   "execution_count": 19,
   "metadata": {},
   "outputs": [],
   "source": [
    "import numpy as np\n",
    "import pandas as pd\n",
    "from matplotlib import pyplot as plt\n",
    "from sklearn.mixture import GaussianMixture\n",
    "from sklearn.cluster import KMeans"
   ]
  },
  {
   "cell_type": "code",
   "execution_count": 20,
   "metadata": {},
   "outputs": [
    {
     "name": "stdout",
     "output_type": "stream",
     "text": [
      "Input Data and Shape\n",
      "(7, 3)\n",
      "   h   V1   V2\n",
      "0  1  1.0  1.0\n",
      "1  2  1.5  2.0\n",
      "2  3  3.0  4.0\n",
      "3  4  5.0  7.0\n",
      "4  5  3.5  5.0\n"
     ]
    }
   ],
   "source": [
    "# Importing the dataset\n",
    "data = pd.read_csv('ex.csv')\n",
    "print(\"Input Data and Shape\")\n",
    "print(data.shape)\n",
    "data.head()\n",
    "print(data.head())"
   ]
  },
  {
   "cell_type": "code",
   "execution_count": 21,
   "metadata": {},
   "outputs": [
    {
     "name": "stdout",
     "output_type": "stream",
     "text": [
      "f1\n",
      "[1.  1.5 3.  5.  3.5 4.5 3.5]\n",
      "x\n",
      "[[1.  1. ]\n",
      " [1.5 2. ]\n",
      " [3.  4. ]\n",
      " [5.  7. ]\n",
      " [3.5 5. ]\n",
      " [4.5 5. ]\n",
      " [3.5 4.5]]\n",
      "Graph for whole dataset\n"
     ]
    },
    {
     "data": {
      "image/png": "[encoded data removed]",
      "text/plain": [
       "<Figure size 432x288 with 1 Axes>"
      ]
     },
     "metadata": {
      "needs_background": "light"
     },
     "output_type": "display_data"
    }
   ],
   "source": [
    "# Getting the values and plotting it\n",
    "f1 = data['V1'].values\n",
    "print(\"f1\")\n",
    "print(f1)\n",
    "f2 = data['V2'].values\n",
    "X = np.array(list(zip(f1, f2)))\n",
    "print(\"x\")\n",
    "print(X)\n",
    "print('Graph for whole dataset')\n",
    "plt.scatter(f1, f2, c='black', s=600)\n",
    "plt.show()"
   ]
  },
  {
   "cell_type": "code",
   "execution_count": 22,
   "metadata": {},
   "outputs": [
    {
     "name": "stdout",
     "output_type": "stream",
     "text": [
      "labels\n",
      "[1 1 0 0 0 0 0]\n",
      "centroids\n",
      "[[3.9  5.1 ]\n",
      " [1.25 1.5 ]]\n",
      "Graph using Kmeans Algorithm\n"
     ]
    },
    {
     "data": {
      "image/png": "[encoded data removed]",
      "text/plain": [
       "<Figure size 432x288 with 1 Axes>"
      ]
     },
     "metadata": {
      "needs_background": "light"
     },
     "output_type": "display_data"
    }
   ],
   "source": [
    "kmeans = KMeans(2, random_state=0)\n",
    "labels = kmeans.fit(X).predict(X)\n",
    "print(\"labels\")\n",
    "print(labels)\n",
    "centroids = kmeans.cluster_centers_\n",
    "print(\"centroids\")\n",
    "print(centroids)\n",
    "plt.scatter(X[:, 0], X[:, 1], c=labels, s=40);\n",
    "print('Graph using Kmeans Algorithm')\n",
    "plt.scatter(centroids[:, 0], centroids[:, 1], marker='*', s=200, c='#050505')\n",
    "plt.show()\n"
   ]
  },
  {
   "cell_type": "code",
   "execution_count": 23,
   "metadata": {},
   "outputs": [
    {
     "name": "stdout",
     "output_type": "stream",
     "text": [
      "lLABELS GMM\n",
      "[1 1 0 0 0 0 0]\n",
      "Graph using EM Algorithm\n"
     ]
    },
    {
     "data": {
      "image/png": "[encoded data removed]",
      "text/plain": [
       "<Figure size 432x288 with 1 Axes>"
      ]
     },
     "metadata": {
      "needs_background": "light"
     },
     "output_type": "display_data"
    }
   ],
   "source": [
    "#gmm demo\n",
    "gmm = GaussianMixture(n_components=2).fit(X)\n",
    "labels = gmm.predict(X)\n",
    "print(\"lLABELS GMM\")\n",
    "print(labels)\n",
    "probs = gmm.predict_proba(X)\n",
    "size = 10 * probs.max(1) ** 3\n",
    "print('Graph using EM Algorithm')\n",
    "#print(probs[:300].round(4))\n",
    "plt.scatter(X[:, 0], X[:, 1], c=labels, s=size, cmap='viridis');\n",
    "plt.show()"
   ]
  }
 ],
 "metadata": {
  "interpreter": {
   "hash": "b14751287ac83b2afdab4db136468149171e77beaa7f027e267c371a0d96559c"
  },
  "kernelspec": {
   "display_name": "Python 3.8.12 64-bit ('college': conda)",
   "language": "python",
   "name": "python3"
  },
  "language_info": {
   "codemirror_mode": {
    "name": "ipython",
    "version": 3
   },
   "file_extension": ".py",
   "mimetype": "text/x-python",
   "name": "python",
   "nbconvert_exporter": "python",
   "pygments_lexer": "ipython3",
   "version": "3.8.12"
  },
  "orig_nbformat": 4
 },
 "nbformat": 4,
 "nbformat_minor": 2
}

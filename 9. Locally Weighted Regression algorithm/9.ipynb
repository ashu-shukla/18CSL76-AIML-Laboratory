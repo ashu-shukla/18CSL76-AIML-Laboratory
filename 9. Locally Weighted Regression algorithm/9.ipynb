{
 "cells": [
  {
   "cell_type": "code",
   "execution_count": 15,
   "metadata": {},
   "outputs": [],
   "source": [
    "import numpy as np\n",
    "import pandas as pd\n",
    "import matplotlib.pyplot as plt"
   ]
  },
  {
   "cell_type": "markdown",
   "metadata": {},
   "source": [
    "Kernel Calculates:\n",
    "$$w(x,x_{0}) = e^{\\frac{-(x_{0}-x)^{2}}{2k^{2}}}$$"
   ]
  },
  {
   "cell_type": "code",
   "execution_count": 16,
   "metadata": {},
   "outputs": [],
   "source": [
    "def kernel(point,xmat, k):\n",
    "   m,n = np.shape(xmat)\n",
    "   weights = np.mat(np.eye((m))) \n",
    "   for j in range(m):\n",
    "      diff = point - X[j]\n",
    "      weights[j,j] = np.exp(diff*diff.T/(-2.0*k**2))\n",
    "   return weights"
   ]
  },
  {
   "cell_type": "markdown",
   "metadata": {},
   "source": [
    "Local Weight calculates:\n",
    "$${\\hat{\\beta}}(x_{0}) = (X^{T}WX)^{-1}X^{T}WY^{T}$$"
   ]
  },
  {
   "cell_type": "code",
   "execution_count": 17,
   "metadata": {},
   "outputs": [],
   "source": [
    "def localWeight(point,xmat,ymat,k):\n",
    "    wei = kernel(point,xmat,k)\n",
    "    W = (X.T*(wei*X)).I*(X.T*(wei*ymat.T))\n",
    "    return W"
   ]
  },
  {
   "cell_type": "markdown",
   "metadata": {},
   "source": [
    "Local Weight Regression Returns:\n",
    "$$x_{0}{\\beta}$$"
   ]
  },
  {
   "cell_type": "code",
   "execution_count": 18,
   "metadata": {},
   "outputs": [],
   "source": [
    "def localWeightRegression(xmat,ymat,k):\n",
    "    m,n = np.shape(xmat)\n",
    "    ypred = np.zeros(m)\n",
    "    for i in range(m):\n",
    "        ypred[i] = xmat[i]*localWeight(xmat[i],xmat,ymat,k)\n",
    "    return ypred"
   ]
  },
  {
   "cell_type": "code",
   "execution_count": 19,
   "metadata": {},
   "outputs": [],
   "source": [
    "# Read Data from csv and separate the cols as array.\n",
    "data = pd.read_csv('tips.csv')\n",
    "bill = np.array(data.total_bill)\n",
    "tip = np.array(data.tip)\n",
    "\n",
    "# Convert to matrix/ 2d array\n",
    "m_bill = np.mat(bill)\n",
    "m_tip = np.mat(tip)\n",
    "m_one = np.mat(np.ones(len(bill)))\n",
    "\n",
    "# Transpose and create a Hstack\n",
    "X = np.hstack((m_one.T, m_bill.T))\n",
    "\n",
    "# Local weighted Regress\n",
    "ypred = localWeightRegression(X, m_tip, 10)\n",
    "\n",
    "# Sort X by col-2, save index sequence in sortindex and now save sorted X in xsort.\n",
    "SortIndex = X[:, 1].argsort(0)\n",
    "xsort = X[SortIndex][:, 0]"
   ]
  },
  {
   "cell_type": "code",
   "execution_count": 20,
   "metadata": {},
   "outputs": [
    {
     "data": {
      "image/png": "[encoded data removed]",
      "text/plain": [
       "<Figure size 432x288 with 1 Axes>"
      ]
     },
     "metadata": {
      "needs_background": "light"
     },
     "output_type": "display_data"
    }
   ],
   "source": [
    "plt.scatter(bill, tip, color='green')\n",
    "plt.plot(xsort[:, 1], ypred[SortIndex], color='red', linewidth=3)\n",
    "plt.xlabel('Total bill')\n",
    "plt.ylabel('Tip')\n",
    "plt.show()"
   ]
  }
 ],
 "metadata": {
  "interpreter": {
   "hash": "b14751287ac83b2afdab4db136468149171e77beaa7f027e267c371a0d96559c"
  },
  "kernelspec": {
   "display_name": "Python 3.8.12 64-bit ('college': conda)",
   "language": "python",
   "name": "python3"
  },
  "language_info": {
   "codemirror_mode": {
    "name": "ipython",
    "version": 3
   },
   "file_extension": ".py",
   "mimetype": "text/x-python",
   "name": "python",
   "nbconvert_exporter": "python",
   "pygments_lexer": "ipython3",
   "version": "3.8.12"
  },
  "orig_nbformat": 4
 },
 "nbformat": 4,
 "nbformat_minor": 2
}

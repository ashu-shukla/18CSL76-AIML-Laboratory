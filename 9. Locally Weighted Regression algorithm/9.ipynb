{
 "cells": [
  {
   "cell_type": "code",
   "execution_count": 1,
   "metadata": {},
   "outputs": [],
   "source": [
    "from numpy import *\n",
    "import operator\n",
    "from os import listdir\n",
    "import matplotlib\n",
    "import matplotlib.pyplot as plt\n",
    "import pandas as pd\n",
    "from numpy.linalg import *"
   ]
  },
  {
   "cell_type": "code",
   "execution_count": 2,
   "metadata": {},
   "outputs": [],
   "source": [
    "def kernel(point,xmat, k):\n",
    "   m,n = shape(xmat)\n",
    "   weights = mat(eye((m))) \n",
    "   for j in range(m):\n",
    "      diff = point - X[j]\n",
    "      weights[j,j] = exp(diff*diff.T/(-2.0*k**2))\n",
    "   return weights"
   ]
  },
  {
   "cell_type": "code",
   "execution_count": 3,
   "metadata": {},
   "outputs": [
    {
     "data": {
      "image/png": "[encoded data removed]",
      "text/plain": [
       "<Figure size 432x288 with 1 Axes>"
      ]
     },
     "metadata": {
      "needs_background": "light"
     },
     "output_type": "display_data"
    }
   ],
   "source": [
    "def localWeight(point,xmat,ymat,k):\n",
    "    wei = kernel(point,xmat,k)\n",
    "    W = (X.T*(wei*X)).I*(X.T*(wei*ymat.T))\n",
    "    return W\n",
    " \n",
    "def localWeightRegression(xmat,ymat,k):\n",
    "    m,n = shape(xmat)\n",
    "    ypred = zeros(m)\n",
    "    for i in range(m):\n",
    "        ypred[i] = xmat[i]*localWeight(xmat[i],xmat,ymat,k)\n",
    "    return ypred\n",
    "    \n",
    "data = pd.read_csv('tips.csv')\n",
    "bill = array(data.total_bill)\n",
    "tip = array(data.tip)\n",
    "mbill = mat(bill)\n",
    "mtip = mat(tip)\n",
    "m= shape(mbill)[1]\n",
    "one = mat(ones(m))\n",
    "X= hstack((one.T,mbill.T))\n",
    "#set k here\n",
    "ypred = localWeightRegression(X,mtip,10)\n",
    "SortIndex = X[:,1].argsort(0)\n",
    "xsort = X[SortIndex][:,0]\n",
    " \n",
    "fig = plt.figure()\n",
    "ax = fig.add_subplot(1,1,1)\n",
    "ax.scatter(bill,tip, color='green')\n",
    "ax.plot(xsort[:,1],ypred[SortIndex], color = 'red', linewidth=5)\n",
    "plt.xlabel('Total bill')\n",
    "plt.ylabel('Tip')\n",
    "plt.show();"
   ]
  }
 ],
 "metadata": {
  "interpreter": {
   "hash": "b14751287ac83b2afdab4db136468149171e77beaa7f027e267c371a0d96559c"
  },
  "kernelspec": {
   "display_name": "Python 3.8.12 64-bit ('college': conda)",
   "language": "python",
   "name": "python3"
  },
  "language_info": {
   "codemirror_mode": {
    "name": "ipython",
    "version": 3
   },
   "file_extension": ".py",
   "mimetype": "text/x-python",
   "name": "python",
   "nbconvert_exporter": "python",
   "pygments_lexer": "ipython3",
   "version": "3.8.12"
  },
  "orig_nbformat": 4
 },
 "nbformat": 4,
 "nbformat_minor": 2
}
